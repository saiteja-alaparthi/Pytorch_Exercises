{
 "cells": [
  {
   "cell_type": "markdown",
   "metadata": {},
   "source": [
    "**The torch.utils.data.DataLoader** is an essential tool in PyTorch used for efficient loading of datasets, especially when training machine learning models. It simplifies the process of:\n",
    "\n",
    "Handling large datasets by breaking them into manageable mini-batches.\n",
    "Shuffling data for randomness during training.\n",
    "Parallelizing data loading using multiple worker threads."
   ]
  },
  {
   "cell_type": "code",
   "execution_count": 6,
   "metadata": {},
   "outputs": [],
   "source": [
    "import torch\n",
    "import pandas as pd\n",
    "import torch.nn as nn\n",
    "import torch.optim as optim\n",
    "from torch.utils.data import Dataset, DataLoader\n",
    "\n",
    "\n",
    "torch.manual_seed(42)\n",
    "X = torch.rand(100, 1) * 10  \n",
    "y = 2 * X + 3 + torch.randn(100, 1) \n",
    "\n",
    "data = torch.cat((X, y), dim=1)\n",
    "df = pd.DataFrame(data.numpy(), columns=['X', 'y'])\n",
    "df.to_csv('data.csv', index=False)"
   ]
  },
  {
   "cell_type": "code",
   "execution_count": 7,
   "metadata": {},
   "outputs": [
    {
     "name": "stdout",
     "output_type": "stream",
     "text": [
      "           X          y\n",
      "0   8.822693  21.286140\n",
      "1   9.150040  21.883327\n",
      "2   3.828638  11.724202\n",
      "3   9.593057  21.735960\n",
      "4   3.904482  10.130211\n",
      "..       ...        ...\n",
      "95  2.330659   6.131865\n",
      "96  9.578310  22.561489\n",
      "97  3.312838  10.257551\n",
      "98  3.227418   9.767368\n",
      "99  0.162027   3.290552\n",
      "\n",
      "[100 rows x 2 columns]\n"
     ]
    }
   ],
   "source": [
    "print(df)"
   ]
  },
  {
   "cell_type": "code",
   "execution_count": 13,
   "metadata": {},
   "outputs": [],
   "source": [
    "class LinearRegressionDataset(Dataset):\n",
    "    def __init__(self,data):\n",
    "        super().__init__()\n",
    "        self.data = pd.read_csv(data)\n",
    "        self.X = torch.tensor(self.data['X'].values, dtype=torch.float32).view(-1, 1)\n",
    "        self.y = torch.tensor(self.data['y'].values, dtype=torch.float32).view(-1, 1)\n",
    "    def __len__(self):\n",
    "        return len(self.data)\n",
    "    def __getitem__(self, index):\n",
    "        return self.X[index],self.y[index]\n",
    "\n",
    "dataset = LinearRegressionDataset('data.csv')\n",
    "dataloader = DataLoader(dataset, batch_size=32, shuffle=True)"
   ]
  },
  {
   "cell_type": "code",
   "execution_count": 14,
   "metadata": {},
   "outputs": [
    {
     "name": "stdout",
     "output_type": "stream",
     "text": [
      "Epoch [100/1000], Loss: 1.5655\n",
      "Epoch [200/1000], Loss: 0.4624\n",
      "Epoch [300/1000], Loss: 1.4614\n",
      "Epoch [400/1000], Loss: 0.3983\n",
      "Epoch [500/1000], Loss: 0.5415\n",
      "Epoch [600/1000], Loss: 1.6767\n",
      "Epoch [700/1000], Loss: 1.0075\n",
      "Epoch [800/1000], Loss: 0.3245\n",
      "Epoch [900/1000], Loss: 0.6541\n",
      "Epoch [1000/1000], Loss: 1.6099\n"
     ]
    }
   ],
   "source": [
    "class LinearRegressionModel(nn.Module):\n",
    "    def __init__(self):\n",
    "        super(LinearRegressionModel, self).__init__()\n",
    "        self.linear = nn.Linear(1, 1) \n",
    "\n",
    "    def forward(self, x):\n",
    "        return self.linear(x)\n",
    "\n",
    "model = LinearRegressionModel()\n",
    "criterion = nn.MSELoss()\n",
    "optimizer = optim.SGD(model.parameters(), lr=0.01)\n",
    "\n",
    "epochs = 1000\n",
    "for epoch in range(epochs):\n",
    "    for batch_X, batch_y in dataloader:\n",
    "        predictions = model(batch_X)\n",
    "        loss = criterion(predictions, batch_y)\n",
    "\n",
    "        optimizer.zero_grad()\n",
    "        loss.backward()\n",
    "        optimizer.step()\n",
    "\n",
    "    if (epoch + 1) % 100 == 0:\n",
    "        print(f\"Epoch [{epoch + 1}/{epochs}], Loss: {loss.item():.4f}\")"
   ]
  },
  {
   "cell_type": "code",
   "execution_count": 15,
   "metadata": {},
   "outputs": [
    {
     "name": "stdout",
     "output_type": "stream",
     "text": [
      "Learned weight: 1.9207, Learned bias: 3.2333\n",
      "Predictions for [[4.0], [7.0]]: [[10.91616153717041], [16.678312301635742]]\n"
     ]
    }
   ],
   "source": [
    "[w, b] = model.linear.parameters()\n",
    "print(f\"Learned weight: {w.item():.4f}, Learned bias: {b.item():.4f}\")\n",
    "\n",
    "X_test = torch.tensor([[4.0], [7.0]])\n",
    "with torch.no_grad():\n",
    "    predictions = model(X_test)\n",
    "    print(f\"Predictions for {X_test.tolist()}: {predictions.tolist()}\")"
   ]
  }
 ],
 "metadata": {
  "kernelspec": {
   "display_name": "Python 3",
   "language": "python",
   "name": "python3"
  },
  "language_info": {
   "codemirror_mode": {
    "name": "ipython",
    "version": 3
   },
   "file_extension": ".py",
   "mimetype": "text/x-python",
   "name": "python",
   "nbconvert_exporter": "python",
   "pygments_lexer": "ipython3",
   "version": "3.9.6"
  }
 },
 "nbformat": 4,
 "nbformat_minor": 2
}
